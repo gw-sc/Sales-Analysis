{
 "cells": [
  {
   "attachments": {},
   "cell_type": "markdown",
   "metadata": {},
   "source": [
    "# Final Project - Management Information Reporting"
   ]
  },
  {
   "attachments": {},
   "cell_type": "markdown",
   "metadata": {},
   "source": [
    "1. Live report\n",
    "    * Main performance indicators overall and by territory\n",
    "    * Category and sub category performance\n",
    "    * Summary of performance by year, quarter and month\n",
    "2. Sales Analysis\n",
    "    * By year, quarter and month\n",
    "    * Weekly sales pattern\n",
    "    * Seasonality analysis\n",
    "    * Quarterly comparison\n",
    "    * Performance bby region\n",
    "    * Category Performance\n",
    "    * Bike sales by region\n",
    "3. Profitabbility Analysis\n",
    "    * Overall profitability YOY\n",
    "    * Comparing 2013 and 2014\n",
    "    * Subcategory breakdown\n",
    "    * Bike product breakdown\n",
    "4. 2014 Q3 Strategy Recomemendations\n",
    "    * Marketing\n",
    "    * Product development\n",
    "    * Next steps for data analysis\n",
    "\n",
    "<!-- for advanced analysis, you could create a cluster analysis visual in PowerBI -->"
   ]
  },
  {
   "cell_type": "code",
   "execution_count": 1,
   "metadata": {},
   "outputs": [],
   "source": [
    "# import dependencies\n",
    "import pandas as pd\n",
    "import numpy as np\n",
    "import matplotlib.pyplot as plt"
   ]
  },
  {
   "cell_type": "code",
   "execution_count": 2,
   "metadata": {},
   "outputs": [
    {
     "data": {
      "text/html": [
       "<div>\n",
       "<style scoped>\n",
       "    .dataframe tbody tr th:only-of-type {\n",
       "        vertical-align: middle;\n",
       "    }\n",
       "\n",
       "    .dataframe tbody tr th {\n",
       "        vertical-align: top;\n",
       "    }\n",
       "\n",
       "    .dataframe thead th {\n",
       "        text-align: right;\n",
       "    }\n",
       "</style>\n",
       "<table border=\"1\" class=\"dataframe\">\n",
       "  <thead>\n",
       "    <tr style=\"text-align: right;\">\n",
       "      <th></th>\n",
       "      <th>OrderQty</th>\n",
       "      <th>UnitPrice</th>\n",
       "      <th>UnitPriceDiscount</th>\n",
       "      <th>TotalSale</th>\n",
       "      <th>ProductNameFull</th>\n",
       "      <th>CurrentStandardCost</th>\n",
       "      <th>CurrentListPrice</th>\n",
       "      <th>CatagoryName</th>\n",
       "      <th>SubCatagoryName</th>\n",
       "      <th>SaleDate</th>\n",
       "      <th>Territory</th>\n",
       "      <th>Area</th>\n",
       "      <th>RegtionCode</th>\n",
       "      <th>ProductProductionCost</th>\n",
       "      <th>Profit</th>\n",
       "    </tr>\n",
       "  </thead>\n",
       "  <tbody>\n",
       "    <tr>\n",
       "      <th>0</th>\n",
       "      <td>1</td>\n",
       "      <td>2024.994</td>\n",
       "      <td>0.0</td>\n",
       "      <td>2024.994</td>\n",
       "      <td>Mountain-100 Black, 42</td>\n",
       "      <td>1898.0944</td>\n",
       "      <td>3374.99</td>\n",
       "      <td>Bikes</td>\n",
       "      <td>Mountain Bikes</td>\n",
       "      <td>2011-05-31</td>\n",
       "      <td>Southeast</td>\n",
       "      <td>North America</td>\n",
       "      <td>US</td>\n",
       "      <td>1898.0944</td>\n",
       "      <td>126.8996</td>\n",
       "    </tr>\n",
       "    <tr>\n",
       "      <th>1</th>\n",
       "      <td>3</td>\n",
       "      <td>2024.994</td>\n",
       "      <td>0.0</td>\n",
       "      <td>6074.982</td>\n",
       "      <td>Mountain-100 Black, 44</td>\n",
       "      <td>1898.0944</td>\n",
       "      <td>3374.99</td>\n",
       "      <td>Bikes</td>\n",
       "      <td>Mountain Bikes</td>\n",
       "      <td>2011-05-31</td>\n",
       "      <td>Southeast</td>\n",
       "      <td>North America</td>\n",
       "      <td>US</td>\n",
       "      <td>1898.0944</td>\n",
       "      <td>126.8996</td>\n",
       "    </tr>\n",
       "    <tr>\n",
       "      <th>2</th>\n",
       "      <td>1</td>\n",
       "      <td>2024.994</td>\n",
       "      <td>0.0</td>\n",
       "      <td>2024.994</td>\n",
       "      <td>Mountain-100 Black, 48</td>\n",
       "      <td>1898.0944</td>\n",
       "      <td>3374.99</td>\n",
       "      <td>Bikes</td>\n",
       "      <td>Mountain Bikes</td>\n",
       "      <td>2011-05-31</td>\n",
       "      <td>Southeast</td>\n",
       "      <td>North America</td>\n",
       "      <td>US</td>\n",
       "      <td>1898.0944</td>\n",
       "      <td>126.8996</td>\n",
       "    </tr>\n",
       "    <tr>\n",
       "      <th>3</th>\n",
       "      <td>1</td>\n",
       "      <td>2039.994</td>\n",
       "      <td>0.0</td>\n",
       "      <td>2039.994</td>\n",
       "      <td>Mountain-100 Silver, 38</td>\n",
       "      <td>1912.1544</td>\n",
       "      <td>3399.99</td>\n",
       "      <td>Bikes</td>\n",
       "      <td>Mountain Bikes</td>\n",
       "      <td>2011-05-31</td>\n",
       "      <td>Southeast</td>\n",
       "      <td>North America</td>\n",
       "      <td>US</td>\n",
       "      <td>1912.1544</td>\n",
       "      <td>127.8396</td>\n",
       "    </tr>\n",
       "    <tr>\n",
       "      <th>4</th>\n",
       "      <td>1</td>\n",
       "      <td>2039.994</td>\n",
       "      <td>0.0</td>\n",
       "      <td>2039.994</td>\n",
       "      <td>Mountain-100 Silver, 42</td>\n",
       "      <td>1912.1544</td>\n",
       "      <td>3399.99</td>\n",
       "      <td>Bikes</td>\n",
       "      <td>Mountain Bikes</td>\n",
       "      <td>2011-05-31</td>\n",
       "      <td>Southeast</td>\n",
       "      <td>North America</td>\n",
       "      <td>US</td>\n",
       "      <td>1912.1544</td>\n",
       "      <td>127.8396</td>\n",
       "    </tr>\n",
       "  </tbody>\n",
       "</table>\n",
       "</div>"
      ],
      "text/plain": [
       "   OrderQty  UnitPrice  UnitPriceDiscount  TotalSale          ProductNameFull  \\\n",
       "0         1   2024.994                0.0   2024.994   Mountain-100 Black, 42   \n",
       "1         3   2024.994                0.0   6074.982   Mountain-100 Black, 44   \n",
       "2         1   2024.994                0.0   2024.994   Mountain-100 Black, 48   \n",
       "3         1   2039.994                0.0   2039.994  Mountain-100 Silver, 38   \n",
       "4         1   2039.994                0.0   2039.994  Mountain-100 Silver, 42   \n",
       "\n",
       "   CurrentStandardCost  CurrentListPrice CatagoryName SubCatagoryName  \\\n",
       "0            1898.0944           3374.99        Bikes  Mountain Bikes   \n",
       "1            1898.0944           3374.99        Bikes  Mountain Bikes   \n",
       "2            1898.0944           3374.99        Bikes  Mountain Bikes   \n",
       "3            1912.1544           3399.99        Bikes  Mountain Bikes   \n",
       "4            1912.1544           3399.99        Bikes  Mountain Bikes   \n",
       "\n",
       "    SaleDate  Territory           Area RegtionCode  ProductProductionCost  \\\n",
       "0 2011-05-31  Southeast  North America          US              1898.0944   \n",
       "1 2011-05-31  Southeast  North America          US              1898.0944   \n",
       "2 2011-05-31  Southeast  North America          US              1898.0944   \n",
       "3 2011-05-31  Southeast  North America          US              1912.1544   \n",
       "4 2011-05-31  Southeast  North America          US              1912.1544   \n",
       "\n",
       "     Profit  \n",
       "0  126.8996  \n",
       "1  126.8996  \n",
       "2  126.8996  \n",
       "3  127.8396  \n",
       "4  127.8396  "
      ]
     },
     "execution_count": 2,
     "metadata": {},
     "output_type": "execute_result"
    }
   ],
   "source": [
    "filepath = \"./Resources/ManagementData.xlsx\"\n",
    "df = pd.read_excel(filepath)\n",
    "df.head(5)"
   ]
  },
  {
   "cell_type": "code",
   "execution_count": 3,
   "metadata": {},
   "outputs": [
    {
     "data": {
      "text/plain": [
       "Index(['OrderQty', 'UnitPrice', 'UnitPriceDiscount', 'TotalSale',\n",
       "       'ProductNameFull', 'CurrentStandardCost', 'CurrentListPrice',\n",
       "       'CatagoryName', 'SubCatagoryName', 'SaleDate', 'Territory', 'Area',\n",
       "       'RegtionCode', 'ProductProductionCost', 'Profit'],\n",
       "      dtype='object')"
      ]
     },
     "execution_count": 3,
     "metadata": {},
     "output_type": "execute_result"
    }
   ],
   "source": [
    "df.columns"
   ]
  },
  {
   "cell_type": "code",
   "execution_count": 4,
   "metadata": {},
   "outputs": [
    {
     "data": {
      "text/html": [
       "<div>\n",
       "<style scoped>\n",
       "    .dataframe tbody tr th:only-of-type {\n",
       "        vertical-align: middle;\n",
       "    }\n",
       "\n",
       "    .dataframe tbody tr th {\n",
       "        vertical-align: top;\n",
       "    }\n",
       "\n",
       "    .dataframe thead th {\n",
       "        text-align: right;\n",
       "    }\n",
       "</style>\n",
       "<table border=\"1\" class=\"dataframe\">\n",
       "  <thead>\n",
       "    <tr style=\"text-align: right;\">\n",
       "      <th></th>\n",
       "      <th>OrderQty</th>\n",
       "      <th>UnitPrice</th>\n",
       "      <th>UnitDiscount</th>\n",
       "      <th>TotalSale</th>\n",
       "      <th>ProductName</th>\n",
       "      <th>StandardCost</th>\n",
       "      <th>ListPrice</th>\n",
       "      <th>Category</th>\n",
       "      <th>SubCategory</th>\n",
       "      <th>Date</th>\n",
       "      <th>Territory</th>\n",
       "      <th>Area</th>\n",
       "      <th>Region</th>\n",
       "      <th>ProductCost</th>\n",
       "      <th>Profit</th>\n",
       "    </tr>\n",
       "  </thead>\n",
       "  <tbody>\n",
       "    <tr>\n",
       "      <th>0</th>\n",
       "      <td>1</td>\n",
       "      <td>2024.994</td>\n",
       "      <td>0.0</td>\n",
       "      <td>2024.994</td>\n",
       "      <td>Mountain-100 Black, 42</td>\n",
       "      <td>1898.0944</td>\n",
       "      <td>3374.99</td>\n",
       "      <td>Bikes</td>\n",
       "      <td>Mountain Bikes</td>\n",
       "      <td>2011-05-31</td>\n",
       "      <td>Southeast</td>\n",
       "      <td>North America</td>\n",
       "      <td>US</td>\n",
       "      <td>1898.0944</td>\n",
       "      <td>126.8996</td>\n",
       "    </tr>\n",
       "    <tr>\n",
       "      <th>1</th>\n",
       "      <td>3</td>\n",
       "      <td>2024.994</td>\n",
       "      <td>0.0</td>\n",
       "      <td>6074.982</td>\n",
       "      <td>Mountain-100 Black, 44</td>\n",
       "      <td>1898.0944</td>\n",
       "      <td>3374.99</td>\n",
       "      <td>Bikes</td>\n",
       "      <td>Mountain Bikes</td>\n",
       "      <td>2011-05-31</td>\n",
       "      <td>Southeast</td>\n",
       "      <td>North America</td>\n",
       "      <td>US</td>\n",
       "      <td>1898.0944</td>\n",
       "      <td>126.8996</td>\n",
       "    </tr>\n",
       "    <tr>\n",
       "      <th>2</th>\n",
       "      <td>1</td>\n",
       "      <td>2024.994</td>\n",
       "      <td>0.0</td>\n",
       "      <td>2024.994</td>\n",
       "      <td>Mountain-100 Black, 48</td>\n",
       "      <td>1898.0944</td>\n",
       "      <td>3374.99</td>\n",
       "      <td>Bikes</td>\n",
       "      <td>Mountain Bikes</td>\n",
       "      <td>2011-05-31</td>\n",
       "      <td>Southeast</td>\n",
       "      <td>North America</td>\n",
       "      <td>US</td>\n",
       "      <td>1898.0944</td>\n",
       "      <td>126.8996</td>\n",
       "    </tr>\n",
       "    <tr>\n",
       "      <th>3</th>\n",
       "      <td>1</td>\n",
       "      <td>2039.994</td>\n",
       "      <td>0.0</td>\n",
       "      <td>2039.994</td>\n",
       "      <td>Mountain-100 Silver, 38</td>\n",
       "      <td>1912.1544</td>\n",
       "      <td>3399.99</td>\n",
       "      <td>Bikes</td>\n",
       "      <td>Mountain Bikes</td>\n",
       "      <td>2011-05-31</td>\n",
       "      <td>Southeast</td>\n",
       "      <td>North America</td>\n",
       "      <td>US</td>\n",
       "      <td>1912.1544</td>\n",
       "      <td>127.8396</td>\n",
       "    </tr>\n",
       "    <tr>\n",
       "      <th>4</th>\n",
       "      <td>1</td>\n",
       "      <td>2039.994</td>\n",
       "      <td>0.0</td>\n",
       "      <td>2039.994</td>\n",
       "      <td>Mountain-100 Silver, 42</td>\n",
       "      <td>1912.1544</td>\n",
       "      <td>3399.99</td>\n",
       "      <td>Bikes</td>\n",
       "      <td>Mountain Bikes</td>\n",
       "      <td>2011-05-31</td>\n",
       "      <td>Southeast</td>\n",
       "      <td>North America</td>\n",
       "      <td>US</td>\n",
       "      <td>1912.1544</td>\n",
       "      <td>127.8396</td>\n",
       "    </tr>\n",
       "  </tbody>\n",
       "</table>\n",
       "</div>"
      ],
      "text/plain": [
       "   OrderQty  UnitPrice  UnitDiscount  TotalSale              ProductName  \\\n",
       "0         1   2024.994           0.0   2024.994   Mountain-100 Black, 42   \n",
       "1         3   2024.994           0.0   6074.982   Mountain-100 Black, 44   \n",
       "2         1   2024.994           0.0   2024.994   Mountain-100 Black, 48   \n",
       "3         1   2039.994           0.0   2039.994  Mountain-100 Silver, 38   \n",
       "4         1   2039.994           0.0   2039.994  Mountain-100 Silver, 42   \n",
       "\n",
       "   StandardCost  ListPrice Category     SubCategory       Date  Territory  \\\n",
       "0     1898.0944    3374.99    Bikes  Mountain Bikes 2011-05-31  Southeast   \n",
       "1     1898.0944    3374.99    Bikes  Mountain Bikes 2011-05-31  Southeast   \n",
       "2     1898.0944    3374.99    Bikes  Mountain Bikes 2011-05-31  Southeast   \n",
       "3     1912.1544    3399.99    Bikes  Mountain Bikes 2011-05-31  Southeast   \n",
       "4     1912.1544    3399.99    Bikes  Mountain Bikes 2011-05-31  Southeast   \n",
       "\n",
       "            Area Region  ProductCost    Profit  \n",
       "0  North America     US    1898.0944  126.8996  \n",
       "1  North America     US    1898.0944  126.8996  \n",
       "2  North America     US    1898.0944  126.8996  \n",
       "3  North America     US    1912.1544  127.8396  \n",
       "4  North America     US    1912.1544  127.8396  "
      ]
     },
     "execution_count": 4,
     "metadata": {},
     "output_type": "execute_result"
    }
   ],
   "source": [
    "df = df.rename(columns = {\n",
    "    'OrderQty': 'OrderQty', \n",
    "    'UnitPrice': 'UnitPrice', \n",
    "    'UnitPriceDiscount': 'UnitDiscount', \n",
    "    'TotalSale': 'TotalSale',\n",
    "    'ProductNameFull': 'ProductName', \n",
    "    'CurrentStandardCost': 'StandardCost', \n",
    "    'CurrentListPrice': 'ListPrice',\n",
    "    'CatagoryName': 'Category', \n",
    "    'SubCatagoryName': 'SubCategory', \n",
    "    'SaleDate': 'Date', \n",
    "    'Territory': 'Territory', \n",
    "    'Area': 'Area',\n",
    "    'RegtionCode': 'Region', \n",
    "    'ProductProductionCost': 'ProductCost', \n",
    "    'Profit': 'Profit' \n",
    "})\n",
    "df.head()"
   ]
  },
  {
   "attachments": {},
   "cell_type": "markdown",
   "metadata": {},
   "source": [
    "## 1. How sales on the bike product category are performing by region"
   ]
  },
  {
   "cell_type": "code",
   "execution_count": 5,
   "metadata": {},
   "outputs": [
    {
     "data": {
      "image/png": "[encoded data removed]",
      "text/plain": [
       "<Figure size 504x288 with 1 Axes>"
      ]
     },
     "metadata": {
      "needs_background": "light"
     },
     "output_type": "display_data"
    },
    {
     "data": {
      "text/plain": [
       "<Figure size 432x288 with 0 Axes>"
      ]
     },
     "metadata": {},
     "output_type": "display_data"
    }
   ],
   "source": [
    "region_sales = df[\"Region\"].value_counts()\n",
    "\n",
    "region_sales.plot(\n",
    "    kind = \"bar\", \n",
    "    color = \"#00BCAD\",\n",
    "    title = \"Sales by Region\",\n",
    "    figsize = (7, 4)\n",
    "    )\n",
    "plt.xticks(rotation = 45)\n",
    "plt.xlabel(\"Region\")\n",
    "plt.ylabel(\"Sales\")\n",
    "plt.tight_layout()\n",
    "plt.show()\n",
    "plt.savefig(\"./Images/Sales_by_Region.png\")"
   ]
  },
  {
   "cell_type": "code",
   "execution_count": 6,
   "metadata": {},
   "outputs": [
    {
     "data": {
      "image/png": "[encoded data removed]",
      "text/plain": [
       "<Figure size 720x360 with 1 Axes>"
      ]
     },
     "metadata": {},
     "output_type": "display_data"
    },
    {
     "data": {
      "text/plain": [
       "<Figure size 432x288 with 0 Axes>"
      ]
     },
     "metadata": {},
     "output_type": "display_data"
    }
   ],
   "source": [
    "category_sales = df[\"Category\"].value_counts()\n",
    "colors = [\"#FDDBE1\", \"#FDBAC4\", \"#FC98A3\", \"#FB6A7A\"]\n",
    "\n",
    "category_sales.plot(\n",
    "    kind = \"pie\",\n",
    "    colors = colors,\n",
    "    autopct = \"%.2f%%\", \n",
    "    figsize = (10, 5),\n",
    "    title = \"Sales by Category\", \n",
    "    legend = \"upper right\",\n",
    "    startangle = 90,\n",
    "    wedgeprops = {\"edgecolor\": \"#EE2D42\"}\n",
    ")\n",
    "plt.show()\n",
    "plt.savefig(\"./Images/Sales_by_Category.png\")"
   ]
  },
  {
   "cell_type": "code",
   "execution_count": 17,
   "metadata": {},
   "outputs": [
    {
     "data": {
      "image/png": "[encoded data removed]",
      "text/plain": [
       "<Figure size 720x360 with 1 Axes>"
      ]
     },
     "metadata": {
      "needs_background": "light"
     },
     "output_type": "display_data"
    },
    {
     "data": {
      "text/plain": [
       "<Figure size 432x288 with 0 Axes>"
      ]
     },
     "metadata": {},
     "output_type": "display_data"
    }
   ],
   "source": [
    "subcategory_sales = df[\"SubCategory\"].value_counts()\n",
    "# pink = [\"#FDDBE1\", \"#FDBAC4\", \"#FC98A3\", \"#FB6A7A\"]\n",
    "\n",
    "subcategory_sales.plot(\n",
    "    kind = \"bar\",\n",
    "    # colors = pink,\n",
    "    # autopct = \"%.2f%%\", \n",
    "    figsize = (10, 5),\n",
    "    title = \"Sales by SubCategory\", \n",
    "    # legend = \"upper right\",\n",
    "    # startangle = 90,\n",
    "    # wedgeprops = {\"edgecolor\": \"#EE2D42\"}\n",
    ")\n",
    "plt.show()\n",
    "plt.savefig(\"./Images/Sales_by_SubCategory.png\")"
   ]
  },
  {
   "attachments": {},
   "cell_type": "markdown",
   "metadata": {},
   "source": [
    "## 2. Profitability year on year"
   ]
  },
  {
   "cell_type": "code",
   "execution_count": 59,
   "metadata": {},
   "outputs": [
    {
     "data": {
      "image/png": "[encoded data removed]",
      "text/plain": [
       "<Figure size 432x288 with 1 Axes>"
      ]
     },
     "metadata": {
      "needs_background": "light"
     },
     "output_type": "display_data"
    }
   ],
   "source": [
    "df = pd.DataFrame(columns=['Date'])\n",
    "\n",
    "df[\"Date\"] =pd.to_datetime(df[\"Date\"])  # add this line before plotting\n",
    "\n",
    "plt.hist(df[\"Date\"]) \n",
    "plt.show()"
   ]
  },
  {
   "cell_type": "code",
   "execution_count": 18,
   "metadata": {},
   "outputs": [
    {
     "data": {
      "text/plain": [
       "[<matplotlib.lines.Line2D at 0x7fb5abd162b0>]"
      ]
     },
     "execution_count": 18,
     "metadata": {},
     "output_type": "execute_result"
    },
    {
     "data": {
      "image/png": "[encoded data removed]",
      "text/plain": [
       "<Figure size 432x288 with 1 Axes>"
      ]
     },
     "metadata": {
      "needs_background": "light"
     },
     "output_type": "display_data"
    }
   ],
   "source": [
    "\n",
    "x_value = df[\"Date\"]\n",
    "y_value = df[\"Profit\"]\n",
    "\n",
    "plt.plot(x_value, y_value)"
   ]
  },
  {
   "attachments": {},
   "cell_type": "markdown",
   "metadata": {},
   "source": [
    "## 3. Profitability this year against last year's figures"
   ]
  },
  {
   "cell_type": "code",
   "execution_count": null,
   "metadata": {},
   "outputs": [],
   "source": []
  },
  {
   "attachments": {},
   "cell_type": "markdown",
   "metadata": {},
   "source": [
    "##  4. Breakdown by product subcategory"
   ]
  },
  {
   "cell_type": "code",
   "execution_count": null,
   "metadata": {},
   "outputs": [
    {
     "data": {
      "image/png": "[encoded data removed]",
      "text/plain": [
       "<Figure size 432x288 with 1 Axes>"
      ]
     },
     "metadata": {
      "needs_background": "light"
     },
     "output_type": "display_data"
    }
   ],
   "source": [
    "subcat_sales = df['SubCategory'].value_counts()\n",
    "plt.plot(subcat_sales)\n",
    "\n",
    "# plt.plot(x_value, y_value)\n",
    "plt.title(\"Sales by SubCategory\")\n",
    "plt.xlabel(\"SubCategory\")\n",
    "plt.ylabel(\"Sales\")\n",
    "plt.xticks(rotation = 90)\n",
    "plt.show()"
   ]
  },
  {
   "attachments": {},
   "cell_type": "markdown",
   "metadata": {},
   "source": [
    "## 5. Recommendations Summary"
   ]
  },
  {
   "cell_type": "code",
   "execution_count": null,
   "metadata": {},
   "outputs": [],
   "source": []
  },
  {
   "attachments": {},
   "cell_type": "markdown",
   "metadata": {},
   "source": []
  }
 ],
 "metadata": {
  "kernelspec": {
   "display_name": "base",
   "language": "python",
   "name": "python3"
  },
  "language_info": {
   "codemirror_mode": {
    "name": "ipython",
    "version": 3
   },
   "file_extension": ".py",
   "mimetype": "text/x-python",
   "name": "python",
   "nbconvert_exporter": "python",
   "pygments_lexer": "ipython3",
   "version": "3.9.12"
  },
  "orig_nbformat": 4
 },
 "nbformat": 4,
 "nbformat_minor": 2
}
