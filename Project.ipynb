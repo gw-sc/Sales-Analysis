{
 "cells": [
  {
   "attachments": {},
   "cell_type": "markdown",
   "metadata": {},
   "source": [
    "# Final Project - Management Information Reporting"
   ]
  },
  {
   "attachments": {},
   "cell_type": "markdown",
   "metadata": {},
   "source": [
    "1. Live report\n",
    "    * Main performance indicators overall and by territory\n",
    "    * Category and sub category performance\n",
    "    * Summary of performance by year, quarter and month\n",
    "2. Sales Analysis\n",
    "    * By year, quarter and month\n",
    "    * Weekly sales pattern\n",
    "    * Seasonality analysis\n",
    "    * Quarterly comparison\n",
    "    * Performance bby region\n",
    "    * Category Performance\n",
    "    * Bike sales by region\n",
    "3. Profitabbility Analysis\n",
    "    * Overall profitability YOY\n",
    "    * Comparing 2013 and 2014\n",
    "    * Subcategory breakdown\n",
    "    * Bike product breakdown\n",
    "4. 2014 Q3 Strategy Recomemendations\n",
    "    * Marketing\n",
    "    * Product development\n",
    "    * Next steps for data analysis\n",
    "\n",
    "<!-- for advanced analysis, you could create a cluster analysis visual in PowerBI -->"
   ]
  },
  {
   "cell_type": "code",
   "execution_count": 1,
   "metadata": {},
   "outputs": [],
   "source": [
    "# import dependencies\n",
    "import pandas as pd\n",
    "import numpy as np\n",
    "import matplotlib.pyplot as plt"
   ]
  },
  {
   "cell_type": "code",
   "execution_count": 2,
   "metadata": {},
   "outputs": [
    {
     "data": {
      "text/html": [
       "<div>\n",
       "<style scoped>\n",
       "    .dataframe tbody tr th:only-of-type {\n",
       "        vertical-align: middle;\n",
       "    }\n",
       "\n",
       "    .dataframe tbody tr th {\n",
       "        vertical-align: top;\n",
       "    }\n",
       "\n",
       "    .dataframe thead th {\n",
       "        text-align: right;\n",
       "    }\n",
       "</style>\n",
       "<table border=\"1\" class=\"dataframe\">\n",
       "  <thead>\n",
       "    <tr style=\"text-align: right;\">\n",
       "      <th></th>\n",
       "      <th>OrderQty</th>\n",
       "      <th>UnitPrice</th>\n",
       "      <th>UnitPriceDiscount</th>\n",
       "      <th>TotalSale</th>\n",
       "      <th>ProductNameFull</th>\n",
       "      <th>CurrentStandardCost</th>\n",
       "      <th>CurrentListPrice</th>\n",
       "      <th>CatagoryName</th>\n",
       "      <th>SubCatagoryName</th>\n",
       "      <th>SaleDate</th>\n",
       "      <th>Territory</th>\n",
       "      <th>Area</th>\n",
       "      <th>RegtionCode</th>\n",
       "      <th>ProductProductionCost</th>\n",
       "      <th>Profit</th>\n",
       "    </tr>\n",
       "  </thead>\n",
       "  <tbody>\n",
       "    <tr>\n",
       "      <th>0</th>\n",
       "      <td>1</td>\n",
       "      <td>2024.994</td>\n",
       "      <td>0.0</td>\n",
       "      <td>2024.994</td>\n",
       "      <td>Mountain-100 Black, 42</td>\n",
       "      <td>1898.0944</td>\n",
       "      <td>3374.99</td>\n",
       "      <td>Bikes</td>\n",
       "      <td>Mountain Bikes</td>\n",
       "      <td>2011-05-31</td>\n",
       "      <td>Southeast</td>\n",
       "      <td>North America</td>\n",
       "      <td>US</td>\n",
       "      <td>1898.0944</td>\n",
       "      <td>126.8996</td>\n",
       "    </tr>\n",
       "    <tr>\n",
       "      <th>1</th>\n",
       "      <td>3</td>\n",
       "      <td>2024.994</td>\n",
       "      <td>0.0</td>\n",
       "      <td>6074.982</td>\n",
       "      <td>Mountain-100 Black, 44</td>\n",
       "      <td>1898.0944</td>\n",
       "      <td>3374.99</td>\n",
       "      <td>Bikes</td>\n",
       "      <td>Mountain Bikes</td>\n",
       "      <td>2011-05-31</td>\n",
       "      <td>Southeast</td>\n",
       "      <td>North America</td>\n",
       "      <td>US</td>\n",
       "      <td>1898.0944</td>\n",
       "      <td>126.8996</td>\n",
       "    </tr>\n",
       "    <tr>\n",
       "      <th>2</th>\n",
       "      <td>1</td>\n",
       "      <td>2024.994</td>\n",
       "      <td>0.0</td>\n",
       "      <td>2024.994</td>\n",
       "      <td>Mountain-100 Black, 48</td>\n",
       "      <td>1898.0944</td>\n",
       "      <td>3374.99</td>\n",
       "      <td>Bikes</td>\n",
       "      <td>Mountain Bikes</td>\n",
       "      <td>2011-05-31</td>\n",
       "      <td>Southeast</td>\n",
       "      <td>North America</td>\n",
       "      <td>US</td>\n",
       "      <td>1898.0944</td>\n",
       "      <td>126.8996</td>\n",
       "    </tr>\n",
       "    <tr>\n",
       "      <th>3</th>\n",
       "      <td>1</td>\n",
       "      <td>2039.994</td>\n",
       "      <td>0.0</td>\n",
       "      <td>2039.994</td>\n",
       "      <td>Mountain-100 Silver, 38</td>\n",
       "      <td>1912.1544</td>\n",
       "      <td>3399.99</td>\n",
       "      <td>Bikes</td>\n",
       "      <td>Mountain Bikes</td>\n",
       "      <td>2011-05-31</td>\n",
       "      <td>Southeast</td>\n",
       "      <td>North America</td>\n",
       "      <td>US</td>\n",
       "      <td>1912.1544</td>\n",
       "      <td>127.8396</td>\n",
       "    </tr>\n",
       "    <tr>\n",
       "      <th>4</th>\n",
       "      <td>1</td>\n",
       "      <td>2039.994</td>\n",
       "      <td>0.0</td>\n",
       "      <td>2039.994</td>\n",
       "      <td>Mountain-100 Silver, 42</td>\n",
       "      <td>1912.1544</td>\n",
       "      <td>3399.99</td>\n",
       "      <td>Bikes</td>\n",
       "      <td>Mountain Bikes</td>\n",
       "      <td>2011-05-31</td>\n",
       "      <td>Southeast</td>\n",
       "      <td>North America</td>\n",
       "      <td>US</td>\n",
       "      <td>1912.1544</td>\n",
       "      <td>127.8396</td>\n",
       "    </tr>\n",
       "  </tbody>\n",
       "</table>\n",
       "</div>"
      ],
      "text/plain": [
       "   OrderQty  UnitPrice  UnitPriceDiscount  TotalSale          ProductNameFull  \\\n",
       "0         1   2024.994                0.0   2024.994   Mountain-100 Black, 42   \n",
       "1         3   2024.994                0.0   6074.982   Mountain-100 Black, 44   \n",
       "2         1   2024.994                0.0   2024.994   Mountain-100 Black, 48   \n",
       "3         1   2039.994                0.0   2039.994  Mountain-100 Silver, 38   \n",
       "4         1   2039.994                0.0   2039.994  Mountain-100 Silver, 42   \n",
       "\n",
       "   CurrentStandardCost  CurrentListPrice CatagoryName SubCatagoryName  \\\n",
       "0            1898.0944           3374.99        Bikes  Mountain Bikes   \n",
       "1            1898.0944           3374.99        Bikes  Mountain Bikes   \n",
       "2            1898.0944           3374.99        Bikes  Mountain Bikes   \n",
       "3            1912.1544           3399.99        Bikes  Mountain Bikes   \n",
       "4            1912.1544           3399.99        Bikes  Mountain Bikes   \n",
       "\n",
       "    SaleDate  Territory           Area RegtionCode  ProductProductionCost  \\\n",
       "0 2011-05-31  Southeast  North America          US              1898.0944   \n",
       "1 2011-05-31  Southeast  North America          US              1898.0944   \n",
       "2 2011-05-31  Southeast  North America          US              1898.0944   \n",
       "3 2011-05-31  Southeast  North America          US              1912.1544   \n",
       "4 2011-05-31  Southeast  North America          US              1912.1544   \n",
       "\n",
       "     Profit  \n",
       "0  126.8996  \n",
       "1  126.8996  \n",
       "2  126.8996  \n",
       "3  127.8396  \n",
       "4  127.8396  "
      ]
     },
     "execution_count": 2,
     "metadata": {},
     "output_type": "execute_result"
    }
   ],
   "source": [
    "filepath = \"./Resources/ManagementData.xlsx\"\n",
    "df = pd.read_excel(filepath)\n",
    "df.head(5)"
   ]
  },
  {
   "cell_type": "code",
   "execution_count": 3,
   "metadata": {},
   "outputs": [
    {
     "data": {
      "text/plain": [
       "Index(['OrderQty', 'UnitPrice', 'UnitPriceDiscount', 'TotalSale',\n",
       "       'ProductNameFull', 'CurrentStandardCost', 'CurrentListPrice',\n",
       "       'CatagoryName', 'SubCatagoryName', 'SaleDate', 'Territory', 'Area',\n",
       "       'RegtionCode', 'ProductProductionCost', 'Profit'],\n",
       "      dtype='object')"
      ]
     },
     "execution_count": 3,
     "metadata": {},
     "output_type": "execute_result"
    }
   ],
   "source": [
    "df.columns"
   ]
  },
  {
   "cell_type": "code",
   "execution_count": 4,
   "metadata": {},
   "outputs": [
    {
     "data": {
      "text/html": [
       "<div>\n",
       "<style scoped>\n",
       "    .dataframe tbody tr th:only-of-type {\n",
       "        vertical-align: middle;\n",
       "    }\n",
       "\n",
       "    .dataframe tbody tr th {\n",
       "        vertical-align: top;\n",
       "    }\n",
       "\n",
       "    .dataframe thead th {\n",
       "        text-align: right;\n",
       "    }\n",
       "</style>\n",
       "<table border=\"1\" class=\"dataframe\">\n",
       "  <thead>\n",
       "    <tr style=\"text-align: right;\">\n",
       "      <th></th>\n",
       "      <th>OrderQty</th>\n",
       "      <th>UnitPrice</th>\n",
       "      <th>UnitDiscount</th>\n",
       "      <th>TotalSale</th>\n",
       "      <th>ProductName</th>\n",
       "      <th>StandardCost</th>\n",
       "      <th>ListPrice</th>\n",
       "      <th>Category</th>\n",
       "      <th>SubCategory</th>\n",
       "      <th>Date</th>\n",
       "      <th>Territory</th>\n",
       "      <th>Area</th>\n",
       "      <th>Region</th>\n",
       "      <th>ProductCost</th>\n",
       "      <th>Profit</th>\n",
       "    </tr>\n",
       "  </thead>\n",
       "  <tbody>\n",
       "    <tr>\n",
       "      <th>0</th>\n",
       "      <td>1</td>\n",
       "      <td>2024.994</td>\n",
       "      <td>0.0</td>\n",
       "      <td>2024.994</td>\n",
       "      <td>Mountain-100 Black, 42</td>\n",
       "      <td>1898.0944</td>\n",
       "      <td>3374.99</td>\n",
       "      <td>Bikes</td>\n",
       "      <td>Mountain Bikes</td>\n",
       "      <td>2011-05-31</td>\n",
       "      <td>Southeast</td>\n",
       "      <td>North America</td>\n",
       "      <td>US</td>\n",
       "      <td>1898.0944</td>\n",
       "      <td>126.8996</td>\n",
       "    </tr>\n",
       "    <tr>\n",
       "      <th>1</th>\n",
       "      <td>3</td>\n",
       "      <td>2024.994</td>\n",
       "      <td>0.0</td>\n",
       "      <td>6074.982</td>\n",
       "      <td>Mountain-100 Black, 44</td>\n",
       "      <td>1898.0944</td>\n",
       "      <td>3374.99</td>\n",
       "      <td>Bikes</td>\n",
       "      <td>Mountain Bikes</td>\n",
       "      <td>2011-05-31</td>\n",
       "      <td>Southeast</td>\n",
       "      <td>North America</td>\n",
       "      <td>US</td>\n",
       "      <td>1898.0944</td>\n",
       "      <td>126.8996</td>\n",
       "    </tr>\n",
       "    <tr>\n",
       "      <th>2</th>\n",
       "      <td>1</td>\n",
       "      <td>2024.994</td>\n",
       "      <td>0.0</td>\n",
       "      <td>2024.994</td>\n",
       "      <td>Mountain-100 Black, 48</td>\n",
       "      <td>1898.0944</td>\n",
       "      <td>3374.99</td>\n",
       "      <td>Bikes</td>\n",
       "      <td>Mountain Bikes</td>\n",
       "      <td>2011-05-31</td>\n",
       "      <td>Southeast</td>\n",
       "      <td>North America</td>\n",
       "      <td>US</td>\n",
       "      <td>1898.0944</td>\n",
       "      <td>126.8996</td>\n",
       "    </tr>\n",
       "    <tr>\n",
       "      <th>3</th>\n",
       "      <td>1</td>\n",
       "      <td>2039.994</td>\n",
       "      <td>0.0</td>\n",
       "      <td>2039.994</td>\n",
       "      <td>Mountain-100 Silver, 38</td>\n",
       "      <td>1912.1544</td>\n",
       "      <td>3399.99</td>\n",
       "      <td>Bikes</td>\n",
       "      <td>Mountain Bikes</td>\n",
       "      <td>2011-05-31</td>\n",
       "      <td>Southeast</td>\n",
       "      <td>North America</td>\n",
       "      <td>US</td>\n",
       "      <td>1912.1544</td>\n",
       "      <td>127.8396</td>\n",
       "    </tr>\n",
       "    <tr>\n",
       "      <th>4</th>\n",
       "      <td>1</td>\n",
       "      <td>2039.994</td>\n",
       "      <td>0.0</td>\n",
       "      <td>2039.994</td>\n",
       "      <td>Mountain-100 Silver, 42</td>\n",
       "      <td>1912.1544</td>\n",
       "      <td>3399.99</td>\n",
       "      <td>Bikes</td>\n",
       "      <td>Mountain Bikes</td>\n",
       "      <td>2011-05-31</td>\n",
       "      <td>Southeast</td>\n",
       "      <td>North America</td>\n",
       "      <td>US</td>\n",
       "      <td>1912.1544</td>\n",
       "      <td>127.8396</td>\n",
       "    </tr>\n",
       "  </tbody>\n",
       "</table>\n",
       "</div>"
      ],
      "text/plain": [
       "   OrderQty  UnitPrice  UnitDiscount  TotalSale              ProductName  \\\n",
       "0         1   2024.994           0.0   2024.994   Mountain-100 Black, 42   \n",
       "1         3   2024.994           0.0   6074.982   Mountain-100 Black, 44   \n",
       "2         1   2024.994           0.0   2024.994   Mountain-100 Black, 48   \n",
       "3         1   2039.994           0.0   2039.994  Mountain-100 Silver, 38   \n",
       "4         1   2039.994           0.0   2039.994  Mountain-100 Silver, 42   \n",
       "\n",
       "   StandardCost  ListPrice Category     SubCategory       Date  Territory  \\\n",
       "0     1898.0944    3374.99    Bikes  Mountain Bikes 2011-05-31  Southeast   \n",
       "1     1898.0944    3374.99    Bikes  Mountain Bikes 2011-05-31  Southeast   \n",
       "2     1898.0944    3374.99    Bikes  Mountain Bikes 2011-05-31  Southeast   \n",
       "3     1912.1544    3399.99    Bikes  Mountain Bikes 2011-05-31  Southeast   \n",
       "4     1912.1544    3399.99    Bikes  Mountain Bikes 2011-05-31  Southeast   \n",
       "\n",
       "            Area Region  ProductCost    Profit  \n",
       "0  North America     US    1898.0944  126.8996  \n",
       "1  North America     US    1898.0944  126.8996  \n",
       "2  North America     US    1898.0944  126.8996  \n",
       "3  North America     US    1912.1544  127.8396  \n",
       "4  North America     US    1912.1544  127.8396  "
      ]
     },
     "execution_count": 4,
     "metadata": {},
     "output_type": "execute_result"
    }
   ],
   "source": [
    "df = df.rename(columns = {\n",
    "    'OrderQty': 'OrderQty', \n",
    "    'UnitPrice': 'UnitPrice', \n",
    "    'UnitPriceDiscount': 'UnitDiscount', \n",
    "    'TotalSale': 'TotalSale',\n",
    "    'ProductNameFull': 'ProductName', \n",
    "    'CurrentStandardCost': 'StandardCost', \n",
    "    'CurrentListPrice': 'ListPrice',\n",
    "    'CatagoryName': 'Category', \n",
    "    'SubCatagoryName': 'SubCategory', \n",
    "    'SaleDate': 'Date', \n",
    "    'Territory': 'Territory', \n",
    "    'Area': 'Area',\n",
    "    'RegtionCode': 'Region', \n",
    "    'ProductProductionCost': 'ProductCost', \n",
    "    'Profit': 'Profit' \n",
    "})\n",
    "df.head()"
   ]
  },
  {
   "attachments": {},
   "cell_type": "markdown",
   "metadata": {},
   "source": [
    "## 1. How sales on the bike product category are performing by region"
   ]
  },
  {
   "cell_type": "code",
   "execution_count": 5,
   "metadata": {},
   "outputs": [
    {
     "data": {
      "image/png": "[encoded data removed]",
      "text/plain": [
       "<Figure size 504x288 with 1 Axes>"
      ]
     },
     "metadata": {
      "needs_background": "light"
     },
     "output_type": "display_data"
    },
    {
     "data": {
      "text/plain": [
       "<Figure size 432x288 with 0 Axes>"
      ]
     },
     "metadata": {},
     "output_type": "display_data"
    }
   ],
   "source": [
    "region_sales = df[\"Region\"].value_counts()\n",
    "\n",
    "region_sales.plot(\n",
    "    kind = \"bar\", \n",
    "    color = \"#00BCAD\",\n",
    "    title = \"Sales by Region\",\n",
    "    figsize = (7, 4)\n",
    "    )\n",
    "plt.xticks(rotation = 45)\n",
    "plt.xlabel(\"Region\")\n",
    "plt.ylabel(\"Sales\")\n",
    "plt.tight_layout()\n",
    "plt.show()\n",
    "plt.savefig(\"./Images/Sales_by_Region.png\")"
   ]
  },
  {
   "cell_type": "code",
   "execution_count": 6,
   "metadata": {},
   "outputs": [
    {
     "data": {
      "image/png": "[encoded data removed]",
      "text/plain": [
       "<Figure size 720x360 with 1 Axes>"
      ]
     },
     "metadata": {},
     "output_type": "display_data"
    },
    {
     "data": {
      "text/plain": [
       "<Figure size 432x288 with 0 Axes>"
      ]
     },
     "metadata": {},
     "output_type": "display_data"
    }
   ],
   "source": [
    "category_sales = df[\"Category\"].value_counts()\n",
    "colors = [\"#FDDBE1\", \"#FDBAC4\", \"#FC98A3\", \"#FB6A7A\"]\n",
    "\n",
    "category_sales.plot(\n",
    "    kind = \"pie\",\n",
    "    colors = colors,\n",
    "    autopct = \"%.2f%%\", \n",
    "    figsize = (10, 5),\n",
    "    title = \"Sales by Category\", \n",
    "    legend = \"upper right\",\n",
    "    startangle = 90,\n",
    "    wedgeprops = {\"edgecolor\": \"#EE2D42\"}\n",
    ")\n",
    "plt.show()\n",
    "plt.savefig(\"./Images/Sales_by_Category.png\")"
   ]
  },
  {
   "cell_type": "code",
   "execution_count": 11,
   "metadata": {},
   "outputs": [
    {
     "ename": "AttributeError",
     "evalue": "'Rectangle' object has no property 'autopct'",
     "output_type": "error",
     "traceback": [
      "\u001b[0;31m---------------------------------------------------------------------------\u001b[0m",
      "\u001b[0;31mAttributeError\u001b[0m                            Traceback (most recent call last)",
      "\u001b[1;32m/Users/gracecheuk/Desktop/e-Careers_Data/Sales-Analysis/Project.ipynb Cell 10\u001b[0m in \u001b[0;36m<cell line: 4>\u001b[0;34m()\u001b[0m\n\u001b[1;32m      <a href='vscode-notebook-cell:/Users/gracecheuk/Desktop/e-Careers_Data/Sales-Analysis/Project.ipynb#X30sZmlsZQ%3D%3D?line=0'>1</a>\u001b[0m subcategory_sales \u001b[39m=\u001b[39m df[\u001b[39m\"\u001b[39m\u001b[39mSubCategory\u001b[39m\u001b[39m\"\u001b[39m]\u001b[39m.\u001b[39mvalue_counts()\n\u001b[1;32m      <a href='vscode-notebook-cell:/Users/gracecheuk/Desktop/e-Careers_Data/Sales-Analysis/Project.ipynb#X30sZmlsZQ%3D%3D?line=1'>2</a>\u001b[0m \u001b[39m# colors = [\"#FDDBE1\", \"#FDBAC4\", \"#FC98A3\", \"#FB6A7A\"]\u001b[39;00m\n\u001b[0;32m----> <a href='vscode-notebook-cell:/Users/gracecheuk/Desktop/e-Careers_Data/Sales-Analysis/Project.ipynb#X30sZmlsZQ%3D%3D?line=3'>4</a>\u001b[0m subcategory_sales\u001b[39m.\u001b[39;49mplot(\n\u001b[1;32m      <a href='vscode-notebook-cell:/Users/gracecheuk/Desktop/e-Careers_Data/Sales-Analysis/Project.ipynb#X30sZmlsZQ%3D%3D?line=4'>5</a>\u001b[0m     kind \u001b[39m=\u001b[39;49m \u001b[39m\"\u001b[39;49m\u001b[39mbar\u001b[39;49m\u001b[39m\"\u001b[39;49m,\n\u001b[1;32m      <a href='vscode-notebook-cell:/Users/gracecheuk/Desktop/e-Careers_Data/Sales-Analysis/Project.ipynb#X30sZmlsZQ%3D%3D?line=5'>6</a>\u001b[0m     \u001b[39m# colors = colors,\u001b[39;49;00m\n\u001b[1;32m      <a href='vscode-notebook-cell:/Users/gracecheuk/Desktop/e-Careers_Data/Sales-Analysis/Project.ipynb#X30sZmlsZQ%3D%3D?line=6'>7</a>\u001b[0m     autopct \u001b[39m=\u001b[39;49m \u001b[39m\"\u001b[39;49m\u001b[39m%.2f\u001b[39;49;00m\u001b[39m%%\u001b[39;49;00m\u001b[39m\"\u001b[39;49m, \n\u001b[1;32m      <a href='vscode-notebook-cell:/Users/gracecheuk/Desktop/e-Careers_Data/Sales-Analysis/Project.ipynb#X30sZmlsZQ%3D%3D?line=7'>8</a>\u001b[0m     figsize \u001b[39m=\u001b[39;49m (\u001b[39m10\u001b[39;49m, \u001b[39m5\u001b[39;49m),\n\u001b[1;32m      <a href='vscode-notebook-cell:/Users/gracecheuk/Desktop/e-Careers_Data/Sales-Analysis/Project.ipynb#X30sZmlsZQ%3D%3D?line=8'>9</a>\u001b[0m     title \u001b[39m=\u001b[39;49m \u001b[39m\"\u001b[39;49m\u001b[39mSales by SubCategory\u001b[39;49m\u001b[39m\"\u001b[39;49m, \n\u001b[1;32m     <a href='vscode-notebook-cell:/Users/gracecheuk/Desktop/e-Careers_Data/Sales-Analysis/Project.ipynb#X30sZmlsZQ%3D%3D?line=9'>10</a>\u001b[0m     \u001b[39m# legend = \"upper right\",\u001b[39;49;00m\n\u001b[1;32m     <a href='vscode-notebook-cell:/Users/gracecheuk/Desktop/e-Careers_Data/Sales-Analysis/Project.ipynb#X30sZmlsZQ%3D%3D?line=10'>11</a>\u001b[0m     startangle \u001b[39m=\u001b[39;49m \u001b[39m90\u001b[39;49m,\n\u001b[1;32m     <a href='vscode-notebook-cell:/Users/gracecheuk/Desktop/e-Careers_Data/Sales-Analysis/Project.ipynb#X30sZmlsZQ%3D%3D?line=11'>12</a>\u001b[0m     wedgeprops \u001b[39m=\u001b[39;49m {\u001b[39m\"\u001b[39;49m\u001b[39medgecolor\u001b[39;49m\u001b[39m\"\u001b[39;49m: \u001b[39m\"\u001b[39;49m\u001b[39m#EE2D42\u001b[39;49m\u001b[39m\"\u001b[39;49m}\n\u001b[1;32m     <a href='vscode-notebook-cell:/Users/gracecheuk/Desktop/e-Careers_Data/Sales-Analysis/Project.ipynb#X30sZmlsZQ%3D%3D?line=12'>13</a>\u001b[0m )\n\u001b[1;32m     <a href='vscode-notebook-cell:/Users/gracecheuk/Desktop/e-Careers_Data/Sales-Analysis/Project.ipynb#X30sZmlsZQ%3D%3D?line=13'>14</a>\u001b[0m plt\u001b[39m.\u001b[39mshow()\n\u001b[1;32m     <a href='vscode-notebook-cell:/Users/gracecheuk/Desktop/e-Careers_Data/Sales-Analysis/Project.ipynb#X30sZmlsZQ%3D%3D?line=14'>15</a>\u001b[0m plt\u001b[39m.\u001b[39msavefig(\u001b[39m\"\u001b[39m\u001b[39m./Images/Sales_by_SubCategory.png\u001b[39m\u001b[39m\"\u001b[39m)\n",
      "File \u001b[0;32m~/opt/anaconda3/lib/python3.9/site-packages/pandas/plotting/_core.py:972\u001b[0m, in \u001b[0;36mPlotAccessor.__call__\u001b[0;34m(self, *args, **kwargs)\u001b[0m\n\u001b[1;32m    969\u001b[0m             label_name \u001b[39m=\u001b[39m label_kw \u001b[39mor\u001b[39;00m data\u001b[39m.\u001b[39mcolumns\n\u001b[1;32m    970\u001b[0m             data\u001b[39m.\u001b[39mcolumns \u001b[39m=\u001b[39m label_name\n\u001b[0;32m--> 972\u001b[0m \u001b[39mreturn\u001b[39;00m plot_backend\u001b[39m.\u001b[39;49mplot(data, kind\u001b[39m=\u001b[39;49mkind, \u001b[39m*\u001b[39;49m\u001b[39m*\u001b[39;49mkwargs)\n",
      "File \u001b[0;32m~/opt/anaconda3/lib/python3.9/site-packages/pandas/plotting/_matplotlib/__init__.py:71\u001b[0m, in \u001b[0;36mplot\u001b[0;34m(data, kind, **kwargs)\u001b[0m\n\u001b[1;32m     69\u001b[0m         kwargs[\u001b[39m\"\u001b[39m\u001b[39max\u001b[39m\u001b[39m\"\u001b[39m] \u001b[39m=\u001b[39m \u001b[39mgetattr\u001b[39m(ax, \u001b[39m\"\u001b[39m\u001b[39mleft_ax\u001b[39m\u001b[39m\"\u001b[39m, ax)\n\u001b[1;32m     70\u001b[0m plot_obj \u001b[39m=\u001b[39m PLOT_CLASSES[kind](data, \u001b[39m*\u001b[39m\u001b[39m*\u001b[39mkwargs)\n\u001b[0;32m---> 71\u001b[0m plot_obj\u001b[39m.\u001b[39;49mgenerate()\n\u001b[1;32m     72\u001b[0m plot_obj\u001b[39m.\u001b[39mdraw()\n\u001b[1;32m     73\u001b[0m \u001b[39mreturn\u001b[39;00m plot_obj\u001b[39m.\u001b[39mresult\n",
      "File \u001b[0;32m~/opt/anaconda3/lib/python3.9/site-packages/pandas/plotting/_matplotlib/core.py:329\u001b[0m, in \u001b[0;36mMPLPlot.generate\u001b[0;34m(self)\u001b[0m\n\u001b[1;32m    327\u001b[0m \u001b[39mself\u001b[39m\u001b[39m.\u001b[39m_compute_plot_data()\n\u001b[1;32m    328\u001b[0m \u001b[39mself\u001b[39m\u001b[39m.\u001b[39m_setup_subplots()\n\u001b[0;32m--> 329\u001b[0m \u001b[39mself\u001b[39;49m\u001b[39m.\u001b[39;49m_make_plot()\n\u001b[1;32m    330\u001b[0m \u001b[39mself\u001b[39m\u001b[39m.\u001b[39m_add_table()\n\u001b[1;32m    331\u001b[0m \u001b[39mself\u001b[39m\u001b[39m.\u001b[39m_make_legend()\n",
      "File \u001b[0;32m~/opt/anaconda3/lib/python3.9/site-packages/pandas/plotting/_matplotlib/core.py:1558\u001b[0m, in \u001b[0;36mBarPlot._make_plot\u001b[0;34m(self)\u001b[0m\n\u001b[1;32m   1556\u001b[0m \u001b[39melse\u001b[39;00m:\n\u001b[1;32m   1557\u001b[0m     w \u001b[39m=\u001b[39m \u001b[39mself\u001b[39m\u001b[39m.\u001b[39mbar_width \u001b[39m/\u001b[39m K\n\u001b[0;32m-> 1558\u001b[0m     rect \u001b[39m=\u001b[39m \u001b[39mself\u001b[39;49m\u001b[39m.\u001b[39;49m_plot(\n\u001b[1;32m   1559\u001b[0m         ax,\n\u001b[1;32m   1560\u001b[0m         \u001b[39mself\u001b[39;49m\u001b[39m.\u001b[39;49max_pos \u001b[39m+\u001b[39;49m (i \u001b[39m+\u001b[39;49m \u001b[39m0.5\u001b[39;49m) \u001b[39m*\u001b[39;49m w,\n\u001b[1;32m   1561\u001b[0m         y,\n\u001b[1;32m   1562\u001b[0m         w,\n\u001b[1;32m   1563\u001b[0m         start\u001b[39m=\u001b[39;49mstart,\n\u001b[1;32m   1564\u001b[0m         label\u001b[39m=\u001b[39;49mlabel,\n\u001b[1;32m   1565\u001b[0m         log\u001b[39m=\u001b[39;49m\u001b[39mself\u001b[39;49m\u001b[39m.\u001b[39;49mlog,\n\u001b[1;32m   1566\u001b[0m         \u001b[39m*\u001b[39;49m\u001b[39m*\u001b[39;49mkwds,\n\u001b[1;32m   1567\u001b[0m     )\n\u001b[1;32m   1568\u001b[0m \u001b[39mself\u001b[39m\u001b[39m.\u001b[39m_append_legend_handles_labels(rect, label)\n",
      "File \u001b[0;32m~/opt/anaconda3/lib/python3.9/site-packages/pandas/plotting/_matplotlib/core.py:1488\u001b[0m, in \u001b[0;36mBarPlot._plot\u001b[0;34m(cls, ax, x, y, w, start, log, **kwds)\u001b[0m\n\u001b[1;32m   1484\u001b[0m \u001b[39m@classmethod\u001b[39m\n\u001b[1;32m   1485\u001b[0m \u001b[39mdef\u001b[39;00m \u001b[39m_plot\u001b[39m(  \u001b[39m# type: ignore[override]\u001b[39;00m\n\u001b[1;32m   1486\u001b[0m     \u001b[39mcls\u001b[39m, ax: Axes, x, y, w, start\u001b[39m=\u001b[39m\u001b[39m0\u001b[39m, log\u001b[39m=\u001b[39m\u001b[39mFalse\u001b[39;00m, \u001b[39m*\u001b[39m\u001b[39m*\u001b[39mkwds\n\u001b[1;32m   1487\u001b[0m ):\n\u001b[0;32m-> 1488\u001b[0m     \u001b[39mreturn\u001b[39;00m ax\u001b[39m.\u001b[39;49mbar(x, y, w, bottom\u001b[39m=\u001b[39;49mstart, log\u001b[39m=\u001b[39;49mlog, \u001b[39m*\u001b[39;49m\u001b[39m*\u001b[39;49mkwds)\n",
      "File \u001b[0;32m~/opt/anaconda3/lib/python3.9/site-packages/matplotlib/__init__.py:1412\u001b[0m, in \u001b[0;36m_preprocess_data.<locals>.inner\u001b[0;34m(ax, data, *args, **kwargs)\u001b[0m\n\u001b[1;32m   1409\u001b[0m \u001b[39m@functools\u001b[39m\u001b[39m.\u001b[39mwraps(func)\n\u001b[1;32m   1410\u001b[0m \u001b[39mdef\u001b[39;00m \u001b[39minner\u001b[39m(ax, \u001b[39m*\u001b[39margs, data\u001b[39m=\u001b[39m\u001b[39mNone\u001b[39;00m, \u001b[39m*\u001b[39m\u001b[39m*\u001b[39mkwargs):\n\u001b[1;32m   1411\u001b[0m     \u001b[39mif\u001b[39;00m data \u001b[39mis\u001b[39;00m \u001b[39mNone\u001b[39;00m:\n\u001b[0;32m-> 1412\u001b[0m         \u001b[39mreturn\u001b[39;00m func(ax, \u001b[39m*\u001b[39;49m\u001b[39mmap\u001b[39;49m(sanitize_sequence, args), \u001b[39m*\u001b[39;49m\u001b[39m*\u001b[39;49mkwargs)\n\u001b[1;32m   1414\u001b[0m     bound \u001b[39m=\u001b[39m new_sig\u001b[39m.\u001b[39mbind(ax, \u001b[39m*\u001b[39margs, \u001b[39m*\u001b[39m\u001b[39m*\u001b[39mkwargs)\n\u001b[1;32m   1415\u001b[0m     auto_label \u001b[39m=\u001b[39m (bound\u001b[39m.\u001b[39marguments\u001b[39m.\u001b[39mget(label_namer)\n\u001b[1;32m   1416\u001b[0m                   \u001b[39mor\u001b[39;00m bound\u001b[39m.\u001b[39mkwargs\u001b[39m.\u001b[39mget(label_namer))\n",
      "File \u001b[0;32m~/opt/anaconda3/lib/python3.9/site-packages/matplotlib/axes/_axes.py:2403\u001b[0m, in \u001b[0;36mAxes.bar\u001b[0;34m(self, x, height, width, bottom, align, **kwargs)\u001b[0m\n\u001b[1;32m   2394\u001b[0m \u001b[39mfor\u001b[39;00m l, b, w, h, c, e, lw, htch \u001b[39min\u001b[39;00m args:\n\u001b[1;32m   2395\u001b[0m     r \u001b[39m=\u001b[39m mpatches\u001b[39m.\u001b[39mRectangle(\n\u001b[1;32m   2396\u001b[0m         xy\u001b[39m=\u001b[39m(l, b), width\u001b[39m=\u001b[39mw, height\u001b[39m=\u001b[39mh,\n\u001b[1;32m   2397\u001b[0m         facecolor\u001b[39m=\u001b[39mc,\n\u001b[0;32m   (...)\u001b[0m\n\u001b[1;32m   2401\u001b[0m         hatch\u001b[39m=\u001b[39mhtch,\n\u001b[1;32m   2402\u001b[0m         )\n\u001b[0;32m-> 2403\u001b[0m     r\u001b[39m.\u001b[39;49mupdate(kwargs)\n\u001b[1;32m   2404\u001b[0m     r\u001b[39m.\u001b[39mget_path()\u001b[39m.\u001b[39m_interpolation_steps \u001b[39m=\u001b[39m \u001b[39m100\u001b[39m\n\u001b[1;32m   2405\u001b[0m     \u001b[39mif\u001b[39;00m orientation \u001b[39m==\u001b[39m \u001b[39m'\u001b[39m\u001b[39mvertical\u001b[39m\u001b[39m'\u001b[39m:\n",
      "File \u001b[0;32m~/opt/anaconda3/lib/python3.9/site-packages/matplotlib/artist.py:1064\u001b[0m, in \u001b[0;36mArtist.update\u001b[0;34m(self, props)\u001b[0m\n\u001b[1;32m   1062\u001b[0m             func \u001b[39m=\u001b[39m \u001b[39mgetattr\u001b[39m(\u001b[39mself\u001b[39m, \u001b[39mf\u001b[39m\u001b[39m\"\u001b[39m\u001b[39mset_\u001b[39m\u001b[39m{\u001b[39;00mk\u001b[39m}\u001b[39;00m\u001b[39m\"\u001b[39m, \u001b[39mNone\u001b[39;00m)\n\u001b[1;32m   1063\u001b[0m             \u001b[39mif\u001b[39;00m \u001b[39mnot\u001b[39;00m callable(func):\n\u001b[0;32m-> 1064\u001b[0m                 \u001b[39mraise\u001b[39;00m \u001b[39mAttributeError\u001b[39;00m(\u001b[39mf\u001b[39m\u001b[39m\"\u001b[39m\u001b[39m{\u001b[39;00m\u001b[39mtype\u001b[39m(\u001b[39mself\u001b[39m)\u001b[39m.\u001b[39m\u001b[39m__name__\u001b[39m\u001b[39m!r}\u001b[39;00m\u001b[39m object \u001b[39m\u001b[39m\"\u001b[39m\n\u001b[1;32m   1065\u001b[0m                                      \u001b[39mf\u001b[39m\u001b[39m\"\u001b[39m\u001b[39mhas no property \u001b[39m\u001b[39m{\u001b[39;00mk\u001b[39m!r}\u001b[39;00m\u001b[39m\"\u001b[39m)\n\u001b[1;32m   1066\u001b[0m             ret\u001b[39m.\u001b[39mappend(func(v))\n\u001b[1;32m   1067\u001b[0m \u001b[39mif\u001b[39;00m ret:\n",
      "\u001b[0;31mAttributeError\u001b[0m: 'Rectangle' object has no property 'autopct'"
     ]
    },
    {
     "data": {
      "image/png": "[encoded data removed]",
      "text/plain": [
       "<Figure size 720x360 with 1 Axes>"
      ]
     },
     "metadata": {
      "needs_background": "light"
     },
     "output_type": "display_data"
    }
   ],
   "source": [
    "subcategory_sales = df[\"SubCategory\"].value_counts()\n",
    "# colors = [\"#FDDBE1\", \"#FDBAC4\", \"#FC98A3\", \"#FB6A7A\"]\n",
    "\n",
    "subcategory_sales.plot(\n",
    "    kind = \"bar\",\n",
    "    # colors = colors,\n",
    "    autopct = \"%.2f%%\", \n",
    "    figsize = (10, 5),\n",
    "    title = \"Sales by SubCategory\", \n",
    "    legend = \"upper right\",\n",
    "    startangle = 90,\n",
    "    wedgeprops = {\"edgecolor\": \"#EE2D42\"}\n",
    ")\n",
    "plt.show()\n",
    "plt.savefig(\"./Images/Sales_by_SubCategory.png\")"
   ]
  },
  {
   "attachments": {},
   "cell_type": "markdown",
   "metadata": {},
   "source": [
    "## 2. Profitability year on year"
   ]
  },
  {
   "cell_type": "code",
   "execution_count": 59,
   "metadata": {},
   "outputs": [
    {
     "data": {
      "image/png": "[encoded data removed]",
      "text/plain": [
       "<Figure size 432x288 with 1 Axes>"
      ]
     },
     "metadata": {
      "needs_background": "light"
     },
     "output_type": "display_data"
    }
   ],
   "source": [
    "df = pd.DataFrame(columns=['Date'])\n",
    "\n",
    "df[\"Date\"] =pd.to_datetime(df[\"Date\"])  # add this line before plotting\n",
    "\n",
    "plt.hist(df[\"Date\"]) \n",
    "plt.show()"
   ]
  },
  {
   "cell_type": "code",
   "execution_count": 60,
   "metadata": {},
   "outputs": [
    {
     "ename": "KeyError",
     "evalue": "'Profit'",
     "output_type": "error",
     "traceback": [
      "\u001b[0;31m---------------------------------------------------------------------------\u001b[0m",
      "\u001b[0;31mKeyError\u001b[0m                                  Traceback (most recent call last)",
      "File \u001b[0;32m~/opt/anaconda3/lib/python3.9/site-packages/pandas/core/indexes/base.py:3621\u001b[0m, in \u001b[0;36mIndex.get_loc\u001b[0;34m(self, key, method, tolerance)\u001b[0m\n\u001b[1;32m   3620\u001b[0m \u001b[39mtry\u001b[39;00m:\n\u001b[0;32m-> 3621\u001b[0m     \u001b[39mreturn\u001b[39;00m \u001b[39mself\u001b[39;49m\u001b[39m.\u001b[39;49m_engine\u001b[39m.\u001b[39;49mget_loc(casted_key)\n\u001b[1;32m   3622\u001b[0m \u001b[39mexcept\u001b[39;00m \u001b[39mKeyError\u001b[39;00m \u001b[39mas\u001b[39;00m err:\n",
      "File \u001b[0;32m~/opt/anaconda3/lib/python3.9/site-packages/pandas/_libs/index.pyx:136\u001b[0m, in \u001b[0;36mpandas._libs.index.IndexEngine.get_loc\u001b[0;34m()\u001b[0m\n",
      "File \u001b[0;32m~/opt/anaconda3/lib/python3.9/site-packages/pandas/_libs/index.pyx:163\u001b[0m, in \u001b[0;36mpandas._libs.index.IndexEngine.get_loc\u001b[0;34m()\u001b[0m\n",
      "File \u001b[0;32mpandas/_libs/hashtable_class_helper.pxi:5198\u001b[0m, in \u001b[0;36mpandas._libs.hashtable.PyObjectHashTable.get_item\u001b[0;34m()\u001b[0m\n",
      "File \u001b[0;32mpandas/_libs/hashtable_class_helper.pxi:5206\u001b[0m, in \u001b[0;36mpandas._libs.hashtable.PyObjectHashTable.get_item\u001b[0;34m()\u001b[0m\n",
      "\u001b[0;31mKeyError\u001b[0m: 'Profit'",
      "\nThe above exception was the direct cause of the following exception:\n",
      "\u001b[0;31mKeyError\u001b[0m                                  Traceback (most recent call last)",
      "\u001b[1;32m/Users/gracecheuk/Desktop/e-Careers_Data/Sales-Analysis/Project.ipynb Cell 12\u001b[0m in \u001b[0;36m<cell line: 2>\u001b[0;34m()\u001b[0m\n\u001b[1;32m      <a href='vscode-notebook-cell:/Users/gracecheuk/Desktop/e-Careers_Data/Sales-Analysis/Project.ipynb#X20sZmlsZQ%3D%3D?line=0'>1</a>\u001b[0m x_value \u001b[39m=\u001b[39m df[\u001b[39m\"\u001b[39m\u001b[39mDate\u001b[39m\u001b[39m\"\u001b[39m]\n\u001b[0;32m----> <a href='vscode-notebook-cell:/Users/gracecheuk/Desktop/e-Careers_Data/Sales-Analysis/Project.ipynb#X20sZmlsZQ%3D%3D?line=1'>2</a>\u001b[0m y_value \u001b[39m=\u001b[39m df[\u001b[39m\"\u001b[39;49m\u001b[39mProfit\u001b[39;49m\u001b[39m\"\u001b[39;49m]\n\u001b[1;32m      <a href='vscode-notebook-cell:/Users/gracecheuk/Desktop/e-Careers_Data/Sales-Analysis/Project.ipynb#X20sZmlsZQ%3D%3D?line=3'>4</a>\u001b[0m plt\u001b[39m.\u001b[39mplot(x_value, y_value)\n",
      "File \u001b[0;32m~/opt/anaconda3/lib/python3.9/site-packages/pandas/core/frame.py:3505\u001b[0m, in \u001b[0;36mDataFrame.__getitem__\u001b[0;34m(self, key)\u001b[0m\n\u001b[1;32m   3503\u001b[0m \u001b[39mif\u001b[39;00m \u001b[39mself\u001b[39m\u001b[39m.\u001b[39mcolumns\u001b[39m.\u001b[39mnlevels \u001b[39m>\u001b[39m \u001b[39m1\u001b[39m:\n\u001b[1;32m   3504\u001b[0m     \u001b[39mreturn\u001b[39;00m \u001b[39mself\u001b[39m\u001b[39m.\u001b[39m_getitem_multilevel(key)\n\u001b[0;32m-> 3505\u001b[0m indexer \u001b[39m=\u001b[39m \u001b[39mself\u001b[39;49m\u001b[39m.\u001b[39;49mcolumns\u001b[39m.\u001b[39;49mget_loc(key)\n\u001b[1;32m   3506\u001b[0m \u001b[39mif\u001b[39;00m is_integer(indexer):\n\u001b[1;32m   3507\u001b[0m     indexer \u001b[39m=\u001b[39m [indexer]\n",
      "File \u001b[0;32m~/opt/anaconda3/lib/python3.9/site-packages/pandas/core/indexes/base.py:3623\u001b[0m, in \u001b[0;36mIndex.get_loc\u001b[0;34m(self, key, method, tolerance)\u001b[0m\n\u001b[1;32m   3621\u001b[0m     \u001b[39mreturn\u001b[39;00m \u001b[39mself\u001b[39m\u001b[39m.\u001b[39m_engine\u001b[39m.\u001b[39mget_loc(casted_key)\n\u001b[1;32m   3622\u001b[0m \u001b[39mexcept\u001b[39;00m \u001b[39mKeyError\u001b[39;00m \u001b[39mas\u001b[39;00m err:\n\u001b[0;32m-> 3623\u001b[0m     \u001b[39mraise\u001b[39;00m \u001b[39mKeyError\u001b[39;00m(key) \u001b[39mfrom\u001b[39;00m \u001b[39merr\u001b[39;00m\n\u001b[1;32m   3624\u001b[0m \u001b[39mexcept\u001b[39;00m \u001b[39mTypeError\u001b[39;00m:\n\u001b[1;32m   3625\u001b[0m     \u001b[39m# If we have a listlike key, _check_indexing_error will raise\u001b[39;00m\n\u001b[1;32m   3626\u001b[0m     \u001b[39m#  InvalidIndexError. Otherwise we fall through and re-raise\u001b[39;00m\n\u001b[1;32m   3627\u001b[0m     \u001b[39m#  the TypeError.\u001b[39;00m\n\u001b[1;32m   3628\u001b[0m     \u001b[39mself\u001b[39m\u001b[39m.\u001b[39m_check_indexing_error(key)\n",
      "\u001b[0;31mKeyError\u001b[0m: 'Profit'"
     ]
    }
   ],
   "source": [
    "\n",
    "x_value = df[\"Date\"]\n",
    "y_value = df[\"Profit\"]\n",
    "\n",
    "plt.plot(x_value, y_value)"
   ]
  },
  {
   "attachments": {},
   "cell_type": "markdown",
   "metadata": {},
   "source": [
    "## 3. Profitability this year against last year's figures"
   ]
  },
  {
   "cell_type": "code",
   "execution_count": null,
   "metadata": {},
   "outputs": [],
   "source": []
  },
  {
   "attachments": {},
   "cell_type": "markdown",
   "metadata": {},
   "source": [
    "##  4. Breakdown by product subcategory"
   ]
  },
  {
   "cell_type": "code",
   "execution_count": null,
   "metadata": {},
   "outputs": [
    {
     "data": {
      "image/png": "[encoded data removed]",
      "text/plain": [
       "<Figure size 432x288 with 1 Axes>"
      ]
     },
     "metadata": {
      "needs_background": "light"
     },
     "output_type": "display_data"
    }
   ],
   "source": [
    "subcat_sales = df['SubCategory'].value_counts()\n",
    "plt.plot(subcat_sales)\n",
    "\n",
    "# plt.plot(x_value, y_value)\n",
    "plt.title(\"Sales by SubCategory\")\n",
    "plt.xlabel(\"SubCategory\")\n",
    "plt.ylabel(\"Sales\")\n",
    "plt.xticks(rotation = 90)\n",
    "plt.show()"
   ]
  },
  {
   "attachments": {},
   "cell_type": "markdown",
   "metadata": {},
   "source": [
    "## 5. Recommendations Summary"
   ]
  },
  {
   "cell_type": "code",
   "execution_count": null,
   "metadata": {},
   "outputs": [],
   "source": []
  },
  {
   "attachments": {},
   "cell_type": "markdown",
   "metadata": {},
   "source": []
  }
 ],
 "metadata": {
  "kernelspec": {
   "display_name": "base",
   "language": "python",
   "name": "python3"
  },
  "language_info": {
   "codemirror_mode": {
    "name": "ipython",
    "version": 3
   },
   "file_extension": ".py",
   "mimetype": "text/x-python",
   "name": "python",
   "nbconvert_exporter": "python",
   "pygments_lexer": "ipython3",
   "version": "3.9.12"
  },
  "orig_nbformat": 4
 },
 "nbformat": 4,
 "nbformat_minor": 2
}
